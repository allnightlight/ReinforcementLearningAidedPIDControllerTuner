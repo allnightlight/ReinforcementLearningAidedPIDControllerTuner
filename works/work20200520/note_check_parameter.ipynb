{
 "cells": [
  {
   "cell_type": "code",
   "execution_count": null,
   "metadata": {},
   "outputs": [],
   "source": [
    "import shutil\n",
    "import os\n",
    "import numpy as np\n",
    "import matplotlib.pylab as plt\n",
    "\n",
    "import sys\n",
    "sys.path.append(os.path.abspath(\"../../framework\"))\n",
    "sys.path.append(os.path.abspath(\"../../concrete\"))\n",
    "sys.path.append(os.path.abspath(\"../../snippet\"))"
   ]
  },
  {
   "cell_type": "code",
   "execution_count": null,
   "metadata": {},
   "outputs": [],
   "source": [
    "from ConcAgent import ConcAgent\n",
    "from ConcEnvironment import ConcEnvironment\n",
    "from ConcAgentFactory import ConcAgentFactory\n",
    "from ConcAgentMemento import ConcAgentMemento\n",
    "from ConcBuildOrder import ConcBuildOrder\n",
    "from ConcStore import ConcStore\n",
    "from ConcObservation import ConcObservation\n",
    "from framework import  ObservationSequence \n",
    "from framework import TrainId, StoreField\n",
    "from workUtils import *"
   ]
  },
  {
   "cell_type": "markdown",
   "metadata": {},
   "source": [
    "# 10. Misc"
   ]
  },
  {
   "cell_type": "markdown",
   "metadata": {},
   "source": [
    "## 12. load trainlog into a database"
   ]
  },
  {
   "cell_type": "code",
   "execution_count": null,
   "metadata": {},
   "outputs": [],
   "source": [
    "trainLogFolderPath = \"./trainLog\"\n",
    "cur = loadTrainLog(trainLogFolderPath)\n",
    "\n",
    "# Table TrainLog(\n",
    "#     buildOrderId Text, /* accord to a build order */\n",
    "#     trainId   Text, /* accord to a trained agent along with a simulation time*/\n",
    "#     timeSimulation Integer,\n",
    "#     timestamp timestamp\n",
    "# )"
   ]
  },
  {
   "cell_type": "markdown",
   "metadata": {},
   "source": [
    "## 14. a function to load gain and bias from the trains over a training:"
   ]
  },
  {
   "cell_type": "code",
   "execution_count": null,
   "metadata": {},
   "outputs": [],
   "source": [
    "def getGainAndBiasOverTrain(buildOrderIdGiven):\n",
    "\n",
    "    concStore = ConcStore()\n",
    "    agentFactory = ConcAgentFactory()\n",
    "\n",
    "    y = np.random.randn(1, ConcEnvironment.nPv).astype(np.float32)\n",
    "    anObservationSequence = ObservationSequence()\n",
    "    anObservationSequence.add(ConcObservation(y))\n",
    "\n",
    "    cur.execute('''\n",
    "    Select\n",
    "        count(*)\n",
    "        From TrainLog\n",
    "        Where buildOrderId = ?\n",
    "        ''', (buildOrderIdGiven,))\n",
    "    assert cur.fetchone()[0] > 0, \"NO DATA WITH THE GIVEN BUILD ID\"\n",
    "\n",
    "    cur.execute('''\n",
    "    Select \n",
    "        trainId\n",
    "        , timeSimulation\n",
    "        , timestamp\n",
    "        From TrainLog\n",
    "        Where buildOrderId = ?\n",
    "        Order By timeSimulation\n",
    "        ''', (buildOrderIdGiven,))\n",
    "\n",
    "\n",
    "    TimeSimulation = []\n",
    "    Gain = []\n",
    "    Bias = []\n",
    "\n",
    "    for (trainIdStr, timeSimulation, timestamp) in cur.fetchall():\n",
    "\n",
    "        # storeField contains: agentMement, buildOrder\n",
    "        storeField = concStore.load(TrainId(trainIdStr))\n",
    "\n",
    "        # restore agent\n",
    "        agent = agentFactory.create(storeField.getBuildOrder())\n",
    "        agent.loadFromMemento(storeField.getAgentMemento())\n",
    "        agent(anObservationSequence)\n",
    "\n",
    "        TimeSimulation.append(timeSimulation)\n",
    "        \n",
    "        gain = agent.gainP.weights[0].numpy()\n",
    "        if len(agent.gainP.weights) > 1:\n",
    "            bias = agent.gainP.weights[1].numpy()\n",
    "        else:\n",
    "            bias = np.nan\n",
    "            \n",
    "        Gain.append(gain)\n",
    "        Bias.append(bias)\n",
    "\n",
    "    TimeSimulation = np.array(TimeSimulation) # (*)\n",
    "    Gain = np.concatenate(Gain, axis=0) # (*, nMv)\n",
    "    Bias = np.stack(Bias, axis=0) # (*, nMv)\n",
    "    weightOnError = storeField.getBuildOrder().weightOnError\n",
    "    \n",
    "    return TimeSimulation, Gain, Bias, weightOnError"
   ]
  },
  {
   "cell_type": "markdown",
   "metadata": {},
   "source": [
    "# 20. Observe the trace of gain and bias over a traing"
   ]
  },
  {
   "cell_type": "markdown",
   "metadata": {},
   "source": [
    "## 22. Choose a build order"
   ]
  },
  {
   "cell_type": "code",
   "execution_count": null,
   "metadata": {},
   "outputs": [],
   "source": [
    "cur.execute('''\n",
    "Select\n",
    "    distinct buildOrderId\n",
    "    From TrainLog\n",
    "    Where timestamp >= datetime('2020-05-22 15:00:00')\n",
    "    Order by timestamp\n",
    "    ''')\n",
    "\n",
    "buildOrderIdsToExport = [elm for elm, in cur.fetchall()]"
   ]
  },
  {
   "cell_type": "markdown",
   "metadata": {},
   "source": [
    "## 24. Load the parameters => SKIPPED"
   ]
  },
  {
   "cell_type": "markdown",
   "metadata": {},
   "source": [
    "## 26. Plot the trace of Gain and Bias along with the simulation time => SKIPPED"
   ]
  },
  {
   "cell_type": "markdown",
   "metadata": {},
   "source": [
    "## 28. Export the dataset of gains"
   ]
  },
  {
   "cell_type": "markdown",
   "metadata": {},
   "source": [
    "Choose a set of iterations over the training"
   ]
  },
  {
   "cell_type": "code",
   "execution_count": null,
   "metadata": {},
   "outputs": [],
   "source": [
    "TimeSimulationsToExport = [255, 511, 1023]"
   ]
  },
  {
   "cell_type": "markdown",
   "metadata": {},
   "source": [
    "Export the gain with respect to the pair of (training iteration, weightOnError)..."
   ]
  },
  {
   "cell_type": "code",
   "execution_count": null,
   "metadata": {},
   "outputs": [],
   "source": [
    "txt = [\"value,epoch,weightOnError\",]\n",
    "for buildOrderIdGiven in buildOrderIdsToExport:\n",
    "    TimeSimulation, Gain, _, weightOnError = getGainAndBiasOverTrain(buildOrderIdGiven)\n",
    "    for t, gain in zip(TimeSimulation, Gain[:,0]):\n",
    "        if t in TimeSimulationsToExport:\n",
    "            txt.append(\"{0},{1},weightOnError={2}\".format(gain,t,weightOnError))\n",
    "\n",
    "with open(\"./tmp/gain.csv\", \"w\") as fp:\n",
    "    fp.write(\"\\n\".join(txt))"
   ]
  }
 ],
 "metadata": {
  "kernelspec": {
   "display_name": "Python 3",
   "language": "python",
   "name": "python3"
  },
  "language_info": {
   "codemirror_mode": {
    "name": "ipython",
    "version": 3
   },
   "file_extension": ".py",
   "mimetype": "text/x-python",
   "name": "python",
   "nbconvert_exporter": "python",
   "pygments_lexer": "ipython3",
   "version": "3.7.5"
  }
 },
 "nbformat": 4,
 "nbformat_minor": 2
}
