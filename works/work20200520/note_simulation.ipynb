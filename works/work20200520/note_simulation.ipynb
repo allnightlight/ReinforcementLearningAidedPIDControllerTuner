{
 "cells": [
  {
   "cell_type": "code",
   "execution_count": null,
   "metadata": {},
   "outputs": [],
   "source": [
    "import shutil\n",
    "import os\n",
    "import numpy as np\n",
    "import matplotlib.pylab as plt\n",
    "\n",
    "import sys\n",
    "sys.path.append(os.path.abspath(\"../../framework\"))\n",
    "sys.path.append(os.path.abspath(\"../../concrete\"))\n",
    "sys.path.append(os.path.abspath(\"../../snippet\"))"
   ]
  },
  {
   "cell_type": "code",
   "execution_count": null,
   "metadata": {},
   "outputs": [],
   "source": [
    "from ConcAgent import ConcAgent\n",
    "from ConcEnvironment import ConcEnvironment\n",
    "from ConcEnvrionmentFactory import ConcEnvironmentFactory\n",
    "from ConcAgentFactory import ConcAgentFactory\n",
    "from ConcAgentMemento import ConcAgentMemento\n",
    "from ConcBuildOrder import ConcBuildOrder\n",
    "from ConcStore import ConcStore\n",
    "from ConcObservation import ConcObservation\n",
    "from framework import ClosedLoopSimulator\n",
    "from framework import ObservationSequence \n",
    "from framework import TrainId, StoreField\n",
    "from workUtils import *"
   ]
  },
  {
   "cell_type": "markdown",
   "metadata": {},
   "source": [
    "## S100. Misc"
   ]
  },
  {
   "cell_type": "markdown",
   "metadata": {},
   "source": [
    "### SS130. define static variables"
   ]
  },
  {
   "cell_type": "code",
   "execution_count": null,
   "metadata": {},
   "outputs": [],
   "source": [
    "concStore = ConcStore()\n",
    "agentFactory = ConcAgentFactory()\n",
    "environmentFactory = ConcEnvironmentFactory()"
   ]
  },
  {
   "cell_type": "markdown",
   "metadata": {},
   "source": [
    "### SS120. load trainlog into a database"
   ]
  },
  {
   "cell_type": "code",
   "execution_count": null,
   "metadata": {},
   "outputs": [],
   "source": [
    "trainLogFolderPath = \"./trainLog\"\n",
    "cur = loadTrainLog(trainLogFolderPath)\n",
    "\n",
    "# Table TrainLog(\n",
    "#     buildOrderId Text, /* accord to a build order */\n",
    "#     trainId   Text, /* accord to a trained agent along with a simulation time*/\n",
    "#     timeSimulation Integer,\n",
    "#     timestamp timestamp\n",
    "# )"
   ]
  },
  {
   "cell_type": "markdown",
   "metadata": {},
   "source": [
    "## S200. Prepare a simulation"
   ]
  },
  {
   "cell_type": "markdown",
   "metadata": {},
   "source": [
    "### SS210. choose a build order => SKIPPED"
   ]
  },
  {
   "cell_type": "markdown",
   "metadata": {},
   "source": [
    "select a target build order id from the following list ..."
   ]
  },
  {
   "cell_type": "code",
   "execution_count": null,
   "metadata": {},
   "outputs": [],
   "source": [
    "cur.execute('''\n",
    "Select\n",
    "    Timestamp\n",
    "    , buildOrderId\n",
    "    , TrainId\n",
    "    , count(*)\n",
    "    From TrainLog\n",
    "    Group By buildOrderId\n",
    "    Order by Timestamp desc\n",
    "    ''')\n",
    "\n",
    "print(\"Timestamp, buildOrderId, trainId, count\")\n",
    "for row in cur.fetchall():\n",
    "    print(row)"
   ]
  },
  {
   "cell_type": "markdown",
   "metadata": {},
   "source": [
    "Or, select a target build order id, randomly ..."
   ]
  },
  {
   "cell_type": "code",
   "execution_count": null,
   "metadata": {},
   "outputs": [],
   "source": [
    "cur.execute('''\n",
    "Select\n",
    "    distinct buildOrderId\n",
    "    From TrainLog\n",
    "    ''')\n",
    "\n",
    "buildOrderIds = [elm for elm, in cur.fetchall()] # contains all the build order ids\n",
    "print(buildOrderIds)\n",
    "buildOrderIdGiven = np.random.choice(buildOrderIds)"
   ]
  },
  {
   "cell_type": "markdown",
   "metadata": {},
   "source": [
    "Or, select a target build order id as the latest trained one..."
   ]
  },
  {
   "cell_type": "code",
   "execution_count": null,
   "metadata": {},
   "outputs": [],
   "source": [
    "cur.execute('''\n",
    "Select\n",
    "    buildOrderId\n",
    "    From TrainLog\n",
    "    Order By timestamp desc\n",
    "    Limit 1\n",
    "    ''')\n",
    "\n",
    "buildOrderIdGiven = cur.fetchone()[0]"
   ]
  },
  {
   "cell_type": "markdown",
   "metadata": {},
   "source": [
    "### SS220. choose the iteration(timesimulation) over the build with the given build order:  => SKIPPED"
   ]
  },
  {
   "cell_type": "markdown",
   "metadata": {},
   "source": [
    "select a timeSimulation(an iteration number of the specified build process) from timeSimulations ..."
   ]
  },
  {
   "cell_type": "code",
   "execution_count": null,
   "metadata": {},
   "outputs": [],
   "source": [
    "cur.execute('''\n",
    "Select\n",
    "    Distinct TimeSimulation\n",
    "    From TrainLog\n",
    "    Order By timeSimulation asc\n",
    "    ''')\n",
    "timeSimulations = [elm for elm, in cur.fetchall()] # (1, 100, 200, ...)\n",
    "print(timeSimulations)"
   ]
  },
  {
   "cell_type": "code",
   "execution_count": null,
   "metadata": {},
   "outputs": [],
   "source": [
    "timeSimulationGiven = int(np.random.choice(timeSimulations))"
   ]
  },
  {
   "cell_type": "markdown",
   "metadata": {},
   "source": [
    "### SS225. define the iterator to generate the pair of buildOrderId and timeSimulation:"
   ]
  },
  {
   "cell_type": "code",
   "execution_count": null,
   "metadata": {},
   "outputs": [],
   "source": [
    "def generateBuildOrderIdAndTimeSimulation():\n",
    "    cur.execute('''\n",
    "Select\n",
    "    distinct buildOrderId\n",
    "    From TrainLog\n",
    "    ''')\n",
    "\n",
    "    buildOrderIds = [elm for elm, in cur.fetchall()] # contains all the build order ids\n",
    "    \n",
    "    for buildOrderIdGiven in buildOrderIds:\n",
    "        \n",
    "        cur.execute('''\n",
    "Select\n",
    "    Distinct TimeSimulation\n",
    "    From TrainLog\n",
    "    Where buildOrderId = ?\n",
    "    Order By timeSimulation asc\n",
    "    ''', (buildOrderIdGiven,))\n",
    "        \n",
    "        timeSimulations = [elm for elm, in cur.fetchall()] # (1, 100, 200, ...)\n",
    "        \n",
    "        timeSimulationsToExport = [timeSimulations[i] for i in np.linspace(1, len(timeSimulations)-1, 4).astype(np.int)]\n",
    "        \n",
    "        for timeSimulationGiven in timeSimulationsToExport:            \n",
    "            yield buildOrderIdGiven, timeSimulationGiven"
   ]
  },
  {
   "cell_type": "markdown",
   "metadata": {},
   "source": [
    "## SS230. restore the agent and the environment"
   ]
  },
  {
   "cell_type": "code",
   "execution_count": null,
   "metadata": {},
   "outputs": [],
   "source": [
    "def restoreAgentAndEnvironment(buildOrderIdGiven, timeSimulationGiven):\n",
    "    cur.execute('''\n",
    "        Select \n",
    "            trainId\n",
    "            From TrainLog\n",
    "            Where buildOrderId = ?\n",
    "            And timeSimulation = ?\n",
    "            ''', (buildOrderIdGiven, timeSimulationGiven))\n",
    "\n",
    "    trainIdStr, = cur.fetchone()\n",
    "\n",
    "    # storeField contains: agentMement, buildOrder\n",
    "    storeField = concStore.load(TrainId(trainIdStr))\n",
    "\n",
    "    # restore agent\n",
    "    agent = agentFactory.create(storeField.getBuildOrder())\n",
    "    agent.loadFromMemento(storeField.getAgentMemento())\n",
    "\n",
    "    # restrore environment\n",
    "    environment = environmentFactory.create(storeField.getBuildOrder())\n",
    "    \n",
    "    # restore nSeq\n",
    "    nSeq = storeField.buildOrder.getnSeq()\n",
    "    \n",
    "    # restore weightOnError\n",
    "    weightOnError = storeField.buildOrder.weightOnError\n",
    "    \n",
    "    return environment, agent, nSeq, weightOnError"
   ]
  },
  {
   "cell_type": "code",
   "execution_count": null,
   "metadata": {},
   "outputs": [],
   "source": [
    "# environment, agent, nSeq = restoreAgentAndEnvironment(buildOrderIdGiven, timeSimulationGiven)"
   ]
  },
  {
   "cell_type": "markdown",
   "metadata": {},
   "source": [
    "## S300. Run a simulation of the given pair of (environment, agent)"
   ]
  },
  {
   "cell_type": "code",
   "execution_count": null,
   "metadata": {},
   "outputs": [],
   "source": [
    "# nSimu = 2**7"
   ]
  },
  {
   "cell_type": "markdown",
   "metadata": {},
   "source": [
    "### SS310: run a simulation"
   ]
  },
  {
   "cell_type": "code",
   "execution_count": null,
   "metadata": {},
   "outputs": [],
   "source": [
    "def runSimulation(environment, agent, nSeq, nSimu):\n",
    "    \n",
    "    Y = [] # observations\n",
    "    U = [] # actions\n",
    "\n",
    "    closedLoopSimulator = ClosedLoopSimulator(environment, agent, nSeq)\n",
    "    closedLoopSimulator.init()\n",
    "    y = closedLoopSimulator.observationSequenceLast[-1].getValue() # (1, nPv)\n",
    "    Y.append(y)\n",
    "    for _ in range(nSimu):\n",
    "        closedLoopSimulator.update()\n",
    "        y = closedLoopSimulator.observationSequenceLast[-1].getValue() # (1, nPv)\n",
    "        u = closedLoopSimulator.actionLast.getActionOnEnvironment() # (1, nMv)\n",
    "        Y.append(y)\n",
    "        U.append(u)\n",
    "\n",
    "    Ynumpy = np.concatenate(Y, axis=0) # (nSimu+1, nPv)\n",
    "    Unumpy = np.concatenate(U, axis=0) # (nSimu, nMv)\n",
    "\n",
    "    Ty = np.arange(nSimu+1) # (0, 1, ..., 9, 10)\n",
    "    Tu = np.arange(nSimu) + 0.5 # (0.5, 1.5, 2.5, ..., 9.5)\n",
    "    \n",
    "    return Ty, Ynumpy, Tu, Unumpy"
   ]
  },
  {
   "cell_type": "code",
   "execution_count": null,
   "metadata": {},
   "outputs": [],
   "source": [
    "# Ty, Ynumpy, Tu, Unumpy = runSimulation(environment, agent, nSeq)"
   ]
  },
  {
   "cell_type": "markdown",
   "metadata": {},
   "source": [
    "### SS320: export the trace of observations and actions to a figure => SKIPPED"
   ]
  },
  {
   "cell_type": "code",
   "execution_count": null,
   "metadata": {},
   "outputs": [],
   "source": [
    "# fig = plt.figure()\n",
    "# fig.clf()\n",
    "# #\n",
    "# ax = fig.add_subplot(2,1,1)\n",
    "# ax.plot(Ty, Ynumpy)\n",
    "# ax.set_title('Observation')\n",
    "# #\n",
    "# ax = fig.add_subplot(2,1,2)\n",
    "# ax.plot(Tu, Unumpy)\n",
    "# ax.set_title('Action')\n",
    "# #\n",
    "# plt.tight_layout()"
   ]
  },
  {
   "cell_type": "markdown",
   "metadata": {},
   "source": [
    "### SS330: export the trace of observations and actions to a csv-formatted file"
   ]
  },
  {
   "cell_type": "code",
   "execution_count": null,
   "metadata": {},
   "outputs": [],
   "source": [
    "nSimu = 2**7\n",
    "\n",
    "fmt1 = \"iterations = {0}\"\n",
    "fmt2 = \"weightOnError = {0}\"\n",
    "\n",
    "data = []\n",
    "for buildOrderIdGiven, timeSimulationGiven in generateBuildOrderIdAndTimeSimulation():\n",
    "\n",
    "    environment, agent, nSeq, weightOnError = restoreAgentAndEnvironment(buildOrderIdGiven, timeSimulationGiven)\n",
    "    \n",
    "    Ty, Ynumpy, Tu, Unumpy = runSimulation(environment, agent, nSeq, nSimu)\n",
    "    \n",
    "    data += [(t, *val, \"Pv\", fmt1.format(timeSimulationGiven), fmt2.format(weightOnError)) for (t, val) in zip(Ty, Ynumpy)]\n",
    "    data += [(t, *val, \"Mv\", fmt1.format(timeSimulationGiven), fmt2.format(weightOnError)) for (t, val) in zip(Tu, Unumpy)]"
   ]
  },
  {
   "cell_type": "code",
   "execution_count": null,
   "metadata": {},
   "outputs": [],
   "source": [
    "rows = [\"time,value,varType,epoch,weightOnError\",]\\\n",
    "        + [\",\".join(map(lambda xx: str(xx), row)) for row in data]\n",
    "with open(\"./tmp/data.csv\", \"w\") as fp:\n",
    "    fp.write(\"\\n\".join(rows))"
   ]
  },
  {
   "cell_type": "code",
   "execution_count": null,
   "metadata": {},
   "outputs": [],
   "source": []
  }
 ],
 "metadata": {
  "kernelspec": {
   "display_name": "Python 3",
   "language": "python",
   "name": "python3"
  },
  "language_info": {
   "codemirror_mode": {
    "name": "ipython",
    "version": 3
   },
   "file_extension": ".py",
   "mimetype": "text/x-python",
   "name": "python",
   "nbconvert_exporter": "python",
   "pygments_lexer": "ipython3",
   "version": "3.6.9"
  }
 },
 "nbformat": 4,
 "nbformat_minor": 2
}
