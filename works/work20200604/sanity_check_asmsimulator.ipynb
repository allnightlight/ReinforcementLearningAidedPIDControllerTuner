{
 "cells": [
  {
   "cell_type": "code",
   "execution_count": null,
   "metadata": {},
   "outputs": [],
   "source": [
    "import shutil\n",
    "import os\n",
    "import numpy as np\n",
    "from datetime import datetime\n",
    "import matplotlib.pylab as plt\n",
    "import tensorflow as tf\n",
    "\n",
    "import sys\n",
    "sys.path.append(os.path.abspath(\"../../framework\"))\n",
    "sys.path.append(os.path.abspath(\"../../concrete\"))"
   ]
  },
  {
   "cell_type": "code",
   "execution_count": null,
   "metadata": {},
   "outputs": [],
   "source": [
    "from AsmAction import AsmAction\n",
    "from AsmSimulator import AsmSimulator\n",
    "from ConcObservation import ConcObservation\n",
    "from ConcAgentFactory import ConcAgentFactory\n",
    "from ConcBuildOrder import ConcBuildOrder\n",
    "from ConcEnvrionmentFactory import ConcEnvironmentFactory\n",
    "from ConcRewardGiverFactory import ConcRewardGiverFactory\n",
    "from ConcTrainerFactory import ConcTrainerFactory\n",
    "from ConcValueFunctionApproximatorFactory import ConcValueFunctionApproximatorFactory\n",
    "from framework import Trainer, ObservationSequence"
   ]
  },
  {
   "cell_type": "markdown",
   "metadata": {},
   "source": [
    "## S100: Check the responce of Asm Simulator to the actions"
   ]
  },
  {
   "cell_type": "code",
   "execution_count": null,
   "metadata": {},
   "outputs": [],
   "source": [
    "asmSimulator =  AsmSimulator(amplitudePeriodicDv=2.0)"
   ]
  },
  {
   "cell_type": "code",
   "execution_count": null,
   "metadata": {},
   "outputs": [],
   "source": [
    "nDays = 40 # [day]\n",
    "gain = 2.0 # \n",
    "bias = -3.2"
   ]
  },
  {
   "cell_type": "code",
   "execution_count": null,
   "metadata": {},
   "outputs": [],
   "source": [
    "def testSimulation(asmSimulator, max_step, nDays):\n",
    "    asmSimulator.init()\n",
    "    asmSimulator.odeHandler.set_integrator('dopri5', method=\"adams\", max_step=max_step)\n",
    "\n",
    "    Do = []\n",
    "    S_O2 = []\n",
    "    S_NH4 = []\n",
    "    X = []\n",
    "    for _ in range(96*nDays): # 96[step] = [1day]\n",
    "\n",
    "        observation = asmSimulator.observe()\n",
    "        e = observation.getValue()\n",
    "        u = gain * e + bias\n",
    "        action = AsmAction(np.ones((1,1))*u)\n",
    "\n",
    "        asmSimulator.update(action)        \n",
    "        observation = asmSimulator.observe()\n",
    "        S_NH4.append(float(observation.S_NH4))\n",
    "        Do.append(float(action.getActionOnEnvironment()))\n",
    "        S_O2.append(asmSimulator.x[7])\n",
    "        X.append(asmSimulator.x)\n",
    "\n",
    "    S_NH4 = np.stack(S_NH4, axis=0) # (*, )\n",
    "    Do = np.stack(Do, axis=0) # (*, )\n",
    "    S_O2 = np.stack(S_O2, axis=0) # (*,)\n",
    "    X = np.stack(X, axis=0) # (*, 17)\n",
    "    \n",
    "    return S_NH4, Do"
   ]
  },
  {
   "cell_type": "code",
   "execution_count": null,
   "metadata": {},
   "outputs": [],
   "source": [
    "for max_step in [1e-4, 1e-7]:\n",
    "    S_NH4, Do = testSimulation(asmSimulator, max_step, nDays)\n",
    "\n",
    "    t = np.linspace(0, nDays, 96*nDays)\n",
    "\n",
    "    fig = plt.figure()\n",
    "    fig.clf()\n",
    "    ax1 = fig.add_subplot(2,1,1)\n",
    "    ax2 = fig.add_subplot(2,1,2)\n",
    "    ax1.plot(t, S_NH4)\n",
    "    ax2.plot(t, Do)\n",
    "\n",
    "    ax1.set_ylabel('NH4')\n",
    "    ax2.set_ylabel('DO')\n",
    "    plt.tight_layout()\n",
    "\n",
    "    plt.savefig('simulation_max_step=%1.0e.png' % max_step)\n",
    "\n",
    "    fig = plt.figure()\n",
    "    fig.clf()\n",
    "    ax1 = fig.add_subplot(2,1,1)\n",
    "    ax2 = fig.add_subplot(2,1,2)\n",
    "    ax1.plot(t[-96*2:], S_NH4[-96*2:])\n",
    "    ax2.plot(t[-96*2:], Do[-96*2:])\n",
    "\n",
    "    ax1.set_ylabel('NH4')\n",
    "    ax2.set_ylabel('DO')\n",
    "    plt.tight_layout()\n",
    "\n",
    "    plt.savefig('simulation_max_step=%1.0e_lastTwoDays.png' % max_step)"
   ]
  }
 ],
 "metadata": {
  "kernelspec": {
   "display_name": "Python 3",
   "language": "python",
   "name": "python3"
  },
  "language_info": {
   "codemirror_mode": {
    "name": "ipython",
    "version": 3
   },
   "file_extension": ".py",
   "mimetype": "text/x-python",
   "name": "python",
   "nbconvert_exporter": "python",
   "pygments_lexer": "ipython3",
   "version": "3.7.5"
  }
 },
 "nbformat": 4,
 "nbformat_minor": 2
}
