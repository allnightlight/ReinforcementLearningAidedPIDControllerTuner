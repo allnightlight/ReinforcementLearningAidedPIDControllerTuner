{
 "cells": [
  {
   "cell_type": "code",
   "execution_count": null,
   "metadata": {},
   "outputs": [],
   "source": [
    "# To mount\n",
    "from google.colab import drive\n",
    "drive.mount('/content/drive')\n",
    "\n",
    "# # To initialize the work environment\n",
    "# %cd /content/drive/My Drive/\n",
    "# !git clone https://github.com/allnightlight/ReinforcementLearningAidedPIDControllerTuner.git -b work20200604\n",
    "\n",
    "# # To update the work environment\n",
    "# %cd /content/drive/My Drive/ReinforcementLearningAidedPIDControllerTuner\n",
    "# !git pull\n",
    "\n",
    "%cd /content/drive/My Drive/ReinforcementLearningAidedPIDControllerTuner/works/work20200604"
   ]
  },
  {
   "cell_type": "code",
   "execution_count": null,
   "metadata": {},
   "outputs": [],
   "source": [
    "import shutil\n",
    "import os\n",
    "import numpy as np\n",
    "import matplotlib.pylab as plt\n",
    "\n",
    "import sys\n",
    "sys.path.append(os.path.abspath(\"../../framework\"))\n",
    "sys.path.append(os.path.abspath(\"../../concrete\"))\n",
    "sys.path.append(os.path.abspath(\"../../snippet\"))"
   ]
  },
  {
   "cell_type": "code",
   "execution_count": null,
   "metadata": {},
   "outputs": [],
   "source": [
    "from ConcAgent import ConcAgent\n",
    "from ConcEnvironment import ConcEnvironment\n",
    "from ConcAgentFactory import ConcAgentFactory\n",
    "from ConcEnvrionmentFactory import ConcEnvironmentFactory\n",
    "from ConcAgentMemento import ConcAgentMemento\n",
    "from ConcBuildOrder import ConcBuildOrder\n",
    "from ConcStore import ConcStore\n",
    "from ConcObservation import ConcObservation\n",
    "\n",
    "from framework import ClosedLoopSimulator\n",
    "from framework import  ObservationSequence \n",
    "from framework import TrainId, StoreField\n",
    "from workUtils import *"
   ]
  },
  {
   "cell_type": "markdown",
   "metadata": {},
   "source": [
    "## S100. Misc"
   ]
  },
  {
   "cell_type": "markdown",
   "metadata": {},
   "source": [
    "### SS130. define static variables"
   ]
  },
  {
   "cell_type": "code",
   "execution_count": null,
   "metadata": {},
   "outputs": [],
   "source": [
    "concStore = ConcStore()\n",
    "agentFactory = ConcAgentFactory()\n",
    "environmentFactory = ConcEnvironmentFactory()"
   ]
  },
  {
   "cell_type": "markdown",
   "metadata": {},
   "source": [
    "### SS120. load trainlog into a database"
   ]
  },
  {
   "cell_type": "code",
   "execution_count": null,
   "metadata": {},
   "outputs": [],
   "source": [
    "trainLogFolderPath = \"./trainLog\"\n",
    "cur = loadTrainLog(trainLogFolderPath)\n",
    "\n",
    "# Table TrainLog(\n",
    "#     buildOrderId Text, /* accord to a build order */\n",
    "#     trainId   Text, /* accord to a trained agent along with a simulation time*/\n",
    "#     timeSimulation Integer,\n",
    "#     timestamp timestamp\n",
    "# )"
   ]
  },
  {
   "cell_type": "markdown",
   "metadata": {},
   "source": [
    "## S200. Prepare a simulation"
   ]
  },
  {
   "cell_type": "markdown",
   "metadata": {},
   "source": [
    "### SS210. choose a build order"
   ]
  },
  {
   "cell_type": "code",
   "execution_count": null,
   "metadata": {},
   "outputs": [],
   "source": [
    "cur.execute('''\n",
    "Select\n",
    "    distinct buildOrderId\n",
    "    From TrainLog\n",
    "    Where buildOrderId like \"casestudy1b %\"\n",
    "    Order by timestamp\n",
    "    ''')\n",
    "\n",
    "buildOrderIdsToExport = [elm for elm, in cur.fetchall()]"
   ]
  },
  {
   "cell_type": "markdown",
   "metadata": {},
   "source": [
    "### SS220. choose the iteration(timesimulation) over the build with the given build order:"
   ]
  },
  {
   "cell_type": "markdown",
   "metadata": {},
   "source": [
    "select a timeSimulation(an iteration number of the specified build process) from timeSimulations ..."
   ]
  },
  {
   "cell_type": "code",
   "execution_count": null,
   "metadata": {},
   "outputs": [],
   "source": [
    "cur.execute('''\n",
    "Select\n",
    "    Distinct TimeSimulation\n",
    "    From TrainLog\n",
    "    Order by TimeSimulation\n",
    "    ''')\n",
    "allDistinctTimeSimulations = [elm for elm, in cur.fetchall()]"
   ]
  },
  {
   "cell_type": "code",
   "execution_count": null,
   "metadata": {},
   "outputs": [],
   "source": [
    "nExport = 5\n",
    "timeSimulationsToExport = [allDistinctTimeSimulations[i] \n",
    "                           for i in np.linspace(1, len(allDistinctTimeSimulations)-1, nExport).astype(np.int)]"
   ]
  },
  {
   "cell_type": "markdown",
   "metadata": {},
   "source": [
    "## SS230. restore the agent and the environment"
   ]
  },
  {
   "cell_type": "code",
   "execution_count": null,
   "metadata": {},
   "outputs": [],
   "source": [
    "def restoreAgentAndEnvironment(buildOrderIdGiven, timeSimulationGiven):\n",
    "    cur.execute('''\n",
    "        Select \n",
    "            trainId\n",
    "            From TrainLog\n",
    "            Where buildOrderId = ?\n",
    "            And timeSimulation = ?\n",
    "            ''', (buildOrderIdGiven, timeSimulationGiven))\n",
    "\n",
    "    trainIdStr, = cur.fetchone()\n",
    "\n",
    "    # storeField contains: agentMement, buildOrder\n",
    "    storeField = concStore.load(TrainId(trainIdStr))\n",
    "\n",
    "    # restore agent\n",
    "    agent = agentFactory.create(storeField.getBuildOrder())\n",
    "    agent.loadFromMemento(storeField.getAgentMemento())\n",
    "\n",
    "    # restrore environment\n",
    "    environment = environmentFactory.create(storeField.getBuildOrder())\n",
    "    \n",
    "    # restore nSeq\n",
    "    nSeq = storeField.buildOrder.getnSeq()\n",
    "    \n",
    "    return environment, agent, nSeq"
   ]
  },
  {
   "cell_type": "markdown",
   "metadata": {},
   "source": [
    "## S300. Run a simulation of the given pair of (environment, agent)"
   ]
  },
  {
   "cell_type": "code",
   "execution_count": null,
   "metadata": {},
   "outputs": [],
   "source": [
    "nSimu = 96 * 7"
   ]
  },
  {
   "cell_type": "markdown",
   "metadata": {},
   "source": [
    "### SS310: run a simulation"
   ]
  },
  {
   "cell_type": "code",
   "execution_count": null,
   "metadata": {},
   "outputs": [],
   "source": [
    "def runSimulation(environment, agent, nSeq):\n",
    "    \n",
    "    Y = [] # observations\n",
    "    U = [] # actions\n",
    "\n",
    "    closedLoopSimulator = ClosedLoopSimulator(environment, agent, nSeq)\n",
    "    closedLoopSimulator.init()\n",
    "    y = closedLoopSimulator.observationSequenceLast[-1].S_NH4 # (1, nPv)\n",
    "    Y.append(y)\n",
    "    for _ in range(nSimu):\n",
    "        closedLoopSimulator.update()\n",
    "        y = closedLoopSimulator.observationSequenceLast[-1].S_NH4 # (,)\n",
    "        u = closedLoopSimulator.actionLast.getActionOnEnvironment() # (1, nMv)\n",
    "        Y.append(y)\n",
    "        U.append(u)\n",
    "\n",
    "    Ynumpy = np.array(Y) # (nSimu+1, nPv)\n",
    "    Unumpy = np.concatenate(U, axis=0) # (nSimu, nMv)\n",
    "\n",
    "    Ty = np.arange(nSimu+1) # (0, 1, ..., 9, 10)\n",
    "    Tu = np.arange(nSimu) + 0.5 # (0.5, 1.5, 2.5, ..., 9.5)\n",
    "    \n",
    "    return Ty, Ynumpy, Tu, Unumpy"
   ]
  },
  {
   "cell_type": "markdown",
   "metadata": {},
   "source": [
    "export the trace of observations and actions to a figure"
   ]
  },
  {
   "cell_type": "code",
   "execution_count": null,
   "metadata": {},
   "outputs": [],
   "source": [
    "def plotSimulation(Ty, Ynumpy, Tu, Unumpy, buildOrderIdGiven, timeSimulationGiven):\n",
    "\n",
    "    fig = plt.figure()\n",
    "    fig.clf()\n",
    "    #\n",
    "    ax = fig.add_subplot(2,1,1)\n",
    "    ax.plot(Ty/96, Ynumpy)\n",
    "    ax.set_title('Observation b.id=%s, t=%d' % (buildOrderIdGiven, timeSimulationGiven))\n",
    "    #\n",
    "    ax = fig.add_subplot(2,1,2)\n",
    "    ax.plot(Tu/96, Unumpy)\n",
    "    ax.set_title('Action')\n",
    "    #\n",
    "    plt.tight_layout()\n",
    "    #\n",
    "    plt.savefig('./tmp/cs1b_%s_%d.png' % (buildOrderIdGiven, timeSimulationGiven))\n",
    "    plt.close(fig)"
   ]
  },
  {
   "cell_type": "code",
   "execution_count": null,
   "metadata": {},
   "outputs": [],
   "source": [
    "sql = \"\"\"\n",
    "Select \n",
    "    Count(*)\n",
    "    From TrainLog\n",
    "    Where buildOrderId = ?\n",
    "    And timeSimulation = ?\n",
    "\"\"\"\n",
    "for buildOrderIdGiven in buildOrderIdsToExport:\n",
    "    for timeSimulationGiven in timeSimulationsToExport:     \n",
    "        cur.execute(sql, (buildOrderIdGiven, timeSimulationGiven,))\n",
    "        count, = cur.fetchone()\n",
    "        if count > 0:        \n",
    "            environment, agent, nSeq = restoreAgentAndEnvironment(buildOrderIdGiven, timeSimulationGiven)\n",
    "            Ty, Ynumpy, Tu, Unumpy = runSimulation(environment, agent, nSeq)\n",
    "            plotSimulation(Ty, Ynumpy, Tu, Unumpy, buildOrderIdGiven, timeSimulationGiven)"
   ]
  }
 ],
 "metadata": {
  "kernelspec": {
   "display_name": "Python 3",
   "language": "python",
   "name": "python3"
  },
  "language_info": {
   "codemirror_mode": {
    "name": "ipython",
    "version": 3
   },
   "file_extension": ".py",
   "mimetype": "text/x-python",
   "name": "python",
   "nbconvert_exporter": "python",
   "pygments_lexer": "ipython3",
   "version": "3.7.5"
  }
 },
 "nbformat": 4,
 "nbformat_minor": 2
}
