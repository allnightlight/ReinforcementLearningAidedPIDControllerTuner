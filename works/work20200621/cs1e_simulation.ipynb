{
 "cells": [
  {
   "cell_type": "code",
   "execution_count": null,
   "metadata": {},
   "outputs": [],
   "source": [
    "# To mount\n",
    "from google.colab import drive\n",
    "drive.mount('/content/drive')\n",
    "\n",
    "# # To initialize the work environment\n",
    "# %cd /content/drive/My Drive/\n",
    "# !git clone https://github.com/allnightlight/ReinforcementLearningAidedPIDControllerTuner.git -b works\n",
    "\n",
    "# # To update the work environment\n",
    "# %cd /content/drive/My Drive/ReinforcementLearningAidedPIDControllerTuner\n",
    "# !git pull\n",
    "\n",
    "%cd /content/drive/My Drive/ReinforcementLearningAidedPIDControllerTuner/works/work20200621"
   ]
  },
  {
   "cell_type": "code",
   "execution_count": null,
   "metadata": {},
   "outputs": [],
   "source": [
    "import shutil\n",
    "import os\n",
    "import numpy as np\n",
    "import matplotlib.pylab as plt\n",
    "\n",
    "import sys\n",
    "sys.path.append(os.path.abspath(\"../../framework\"))\n",
    "sys.path.append(os.path.abspath(\"../../concrete\"))\n",
    "sys.path.append(os.path.abspath(\"../../snippet\"))"
   ]
  },
  {
   "cell_type": "code",
   "execution_count": null,
   "metadata": {},
   "outputs": [],
   "source": [
    "from ConcAgent import ConcAgent\n",
    "from ConcEnvironment import ConcEnvironment\n",
    "from ConcAgentFactory import ConcAgentFactory\n",
    "from ConcEnvrionmentFactory import ConcEnvironmentFactory\n",
    "from ConcAgentMemento import ConcAgentMemento\n",
    "from ConcBuildOrder import ConcBuildOrder\n",
    "from ConcStore import ConcStore\n",
    "from ConcObservation import ConcObservation\n",
    "\n",
    "from framework import ClosedLoopSimulator\n",
    "from framework import  ObservationSequence \n",
    "from framework import TrainId, StoreField\n",
    "from workUtils import *"
   ]
  },
  {
   "cell_type": "markdown",
   "metadata": {},
   "source": [
    "## S100. Misc"
   ]
  },
  {
   "cell_type": "markdown",
   "metadata": {},
   "source": [
    "### SS120. feature extraction from error-trend"
   ]
  },
  {
   "cell_type": "code",
   "execution_count": null,
   "metadata": {},
   "outputs": [],
   "source": [
    "def extractFeatureFromErr(err):\n",
    "    \n",
    "    # n = 2**7\n",
    "    # err = np.random.randn(n) # (n,)\n",
    "    # feature = extractFeatureFromErr(err)\n",
    "    \n",
    "    assert not np.all(np.isnan(err))\n",
    "\n",
    "    feature = dict(\n",
    "        err05 = np.nanpercentile(err,  5)\n",
    "        ,err50 = np.nanpercentile(err, 50)\n",
    "        ,err95 = np.nanpercentile(err, 95)\n",
    "        ,abs_err05 = np.nanpercentile(np.abs(err),  5)\n",
    "        ,abs_err50 = np.nanpercentile(np.abs(err), 50)\n",
    "        ,abs_err95 = np.nanpercentile(np.abs(err), 95)\n",
    "        )\n",
    "    return feature"
   ]
  },
  {
   "cell_type": "markdown",
   "metadata": {},
   "source": [
    "### SS130. define static variables"
   ]
  },
  {
   "cell_type": "code",
   "execution_count": null,
   "metadata": {},
   "outputs": [],
   "source": [
    "concStore = ConcStore()\n",
    "agentFactory = ConcAgentFactory()\n",
    "environmentFactory = ConcEnvironmentFactory()"
   ]
  },
  {
   "cell_type": "markdown",
   "metadata": {},
   "source": [
    "### SS120. load trainlog into a database"
   ]
  },
  {
   "cell_type": "code",
   "execution_count": null,
   "metadata": {},
   "outputs": [],
   "source": [
    "trainLogFolderPath = \"./trainLog\"\n",
    "cur = loadTrainLog(trainLogFolderPath)\n",
    "\n",
    "# Table TrainLog(\n",
    "#     buildOrderId Text, /* accord to a build order */\n",
    "#     trainId   Text, /* accord to a trained agent along with a simulation time*/\n",
    "#     timeSimulation Integer,\n",
    "#     timestamp timestamp\n",
    "# )"
   ]
  },
  {
   "cell_type": "markdown",
   "metadata": {},
   "source": [
    "## S200. Prepare a simulation"
   ]
  },
  {
   "cell_type": "markdown",
   "metadata": {},
   "source": [
    "### SS210. choose a build order"
   ]
  },
  {
   "cell_type": "code",
   "execution_count": null,
   "metadata": {},
   "outputs": [],
   "source": [
    "cur.execute('''\n",
    "Select\n",
    "    distinct buildOrderId\n",
    "    From TrainLog\n",
    "    Where buildOrderId like \"cs1e %\"\n",
    "    Order by timestamp\n",
    "    ''')\n",
    "\n",
    "buildOrderIdsToExport = [elm for elm, in cur.fetchall()]"
   ]
  },
  {
   "cell_type": "markdown",
   "metadata": {},
   "source": [
    "### SS220. choose the iteration(timesimulation) over the build with the given build order:"
   ]
  },
  {
   "cell_type": "markdown",
   "metadata": {},
   "source": [
    "select a timeSimulation(an iteration number of the specified build process) from timeSimulations ..."
   ]
  },
  {
   "cell_type": "code",
   "execution_count": null,
   "metadata": {},
   "outputs": [],
   "source": [
    "cur.execute('''\n",
    "Select\n",
    "    Distinct TimeSimulation\n",
    "    From TrainLog\n",
    "    Order by TimeSimulation\n",
    "    ''')\n",
    "allDistinctTimeSimulations = [elm for elm, in cur.fetchall()]"
   ]
  },
  {
   "cell_type": "code",
   "execution_count": null,
   "metadata": {},
   "outputs": [],
   "source": [
    "nExport = 5\n",
    "timeSimulationsToExport = [allDistinctTimeSimulations[i] \n",
    "                           for i in np.linspace(1, len(allDistinctTimeSimulations)-1, nExport).astype(np.int)]"
   ]
  },
  {
   "cell_type": "markdown",
   "metadata": {},
   "source": [
    "## SS230. restore the agent and the environment"
   ]
  },
  {
   "cell_type": "code",
   "execution_count": null,
   "metadata": {},
   "outputs": [],
   "source": [
    "def restoreAgentAndEnvironment(buildOrderIdGiven, timeSimulationGiven):\n",
    "    cur.execute('''\n",
    "        Select \n",
    "            trainId\n",
    "            From TrainLog\n",
    "            Where buildOrderId = ?\n",
    "            And timeSimulation = ?\n",
    "            ''', (buildOrderIdGiven, timeSimulationGiven))\n",
    "\n",
    "    trainIdStr, = cur.fetchone()\n",
    "\n",
    "    # storeField contains: agentMement, buildOrder\n",
    "    storeField = concStore.load(TrainId(trainIdStr))\n",
    "\n",
    "    # restore agent\n",
    "    agent = agentFactory.create(storeField.getBuildOrder())\n",
    "    agent.loadFromMemento(storeField.getAgentMemento())\n",
    "\n",
    "    # restrore environment\n",
    "    environment = environmentFactory.create(storeField.getBuildOrder())\n",
    "    \n",
    "    # restore nSeq\n",
    "    nSeq = storeField.buildOrder.getnSeq()\n",
    "    \n",
    "    # create the label\n",
    "    label = \"fixPolicyScale: %d\" % storeField.getBuildOrder().fixPolicyScale\n",
    "    \n",
    "    return environment, agent, nSeq, label"
   ]
  },
  {
   "cell_type": "markdown",
   "metadata": {},
   "source": [
    "## S300. Run a simulation of the given pair of (environment, agent)"
   ]
  },
  {
   "cell_type": "markdown",
   "metadata": {},
   "source": [
    "### SS310: run a simulation"
   ]
  },
  {
   "cell_type": "code",
   "execution_count": null,
   "metadata": {},
   "outputs": [],
   "source": [
    "def runSimulation(environment, agent, nSeq, nSimu):\n",
    "    \n",
    "    Y = [] # observations\n",
    "    U = [] # actions\n",
    "\n",
    "    closedLoopSimulator = ClosedLoopSimulator(environment, agent, nSeq)\n",
    "    closedLoopSimulator.init()\n",
    "    y = float(closedLoopSimulator.observationSequenceLast[-1].getValue()) # (1, nPv)\n",
    "    Y.append(y)\n",
    "    for _ in range(nSimu):\n",
    "        closedLoopSimulator.update()\n",
    "        y = float(closedLoopSimulator.observationSequenceLast[-1].getValue()) # (,)\n",
    "        u = float(closedLoopSimulator.actionLast.getActionOnEnvironment()) # (,)\n",
    "        Y.append(y)\n",
    "        U.append(u)\n",
    "\n",
    "    Ynumpy = np.array(Y) # (nSimu+1,)\n",
    "    Unumpy = np.array(U) # (nSimu,)\n",
    "\n",
    "    Ty = np.arange(nSimu+1) # (0, 1, ..., 9, 10)\n",
    "    Tu = np.arange(nSimu) + 0.5 # (0.5, 1.5, 2.5, ..., 9.5)\n",
    "    \n",
    "    return Ty, Ynumpy, Tu, Unumpy"
   ]
  },
  {
   "cell_type": "markdown",
   "metadata": {},
   "source": [
    "specify the length of the simulation..."
   ]
  },
  {
   "cell_type": "code",
   "execution_count": null,
   "metadata": {},
   "outputs": [],
   "source": [
    "nSimu = 30*4"
   ]
  },
  {
   "cell_type": "markdown",
   "metadata": {},
   "source": [
    "export the trace of observations and actions to a csv file:"
   ]
  },
  {
   "cell_type": "code",
   "execution_count": null,
   "metadata": {},
   "outputs": [],
   "source": [
    "tbl = [\"buildOrderId,trainIteration, label, feature, val\".split(\",\")]\n",
    "\n",
    "sql = \"\"\"\n",
    "Select \n",
    "    Count(*)\n",
    "    From TrainLog\n",
    "    Where buildOrderId = ?\n",
    "    And timeSimulation = ?\n",
    "\"\"\"\n",
    "for buildOrderIdGiven in buildOrderIdsToExport:\n",
    "    for timeSimulationGiven in timeSimulationsToExport:     \n",
    "        cur.execute(sql, (buildOrderIdGiven, timeSimulationGiven,))\n",
    "        count, = cur.fetchone()\n",
    "        if count > 0:        \n",
    "            environment, agent, nSeq, label = restoreAgentAndEnvironment(buildOrderIdGiven, timeSimulationGiven)\n",
    "            \n",
    "            agent._logSd = np.log(1e-16)\n",
    "            \n",
    "            Ty, Ynumpy, Tu, Unumpy = runSimulation(environment, agent, nSeq, nSimu)\n",
    "            \n",
    "            feature = extractFeatureFromErr(Ynumpy)\n",
    "            for key, val in feature.items():\n",
    "                tbl.append((buildOrderIdGiven, timeSimulationGiven, label, key, val))                        \n",
    "\n",
    "with open(\"cs1e_error_features.csv\", \"w\") as fp:\n",
    "    for row in tbl:\n",
    "        fp.write(\",\".join([str(elm) for elm in row]) + \"\\n\")"
   ]
  }
 ],
 "metadata": {
  "kernelspec": {
   "display_name": "Python 3",
   "language": "python",
   "name": "python3"
  },
  "language_info": {
   "codemirror_mode": {
    "name": "ipython",
    "version": 3
   },
   "file_extension": ".py",
   "mimetype": "text/x-python",
   "name": "python",
   "nbconvert_exporter": "python",
   "pygments_lexer": "ipython3",
   "version": "3.7.5"
  }
 },
 "nbformat": 4,
 "nbformat_minor": 2
}
