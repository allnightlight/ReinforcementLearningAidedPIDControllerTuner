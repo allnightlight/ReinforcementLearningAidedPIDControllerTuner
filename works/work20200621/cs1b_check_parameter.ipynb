{
 "cells": [
  {
   "cell_type": "code",
   "execution_count": null,
   "metadata": {},
   "outputs": [],
   "source": [
    "# To mount\n",
    "from google.colab import drive\n",
    "drive.mount('/content/drive')\n",
    "\n",
    "# # To initialize the work environment\n",
    "# %cd /content/drive/My Drive/\n",
    "# !git clone https://github.com/allnightlight/ReinforcementLearningAidedPIDControllerTuner.git -b works\n",
    "\n",
    "# # To update the work environment\n",
    "# %cd /content/drive/My Drive/ReinforcementLearningAidedPIDControllerTuner\n",
    "# !git pull\n",
    "\n",
    "%cd /content/drive/My Drive/ReinforcementLearningAidedPIDControllerTuner/works/work20200621"
   ]
  },
  {
   "cell_type": "code",
   "execution_count": null,
   "metadata": {},
   "outputs": [],
   "source": [
    "import shutil\n",
    "import os\n",
    "import numpy as np\n",
    "import matplotlib.pylab as plt\n",
    "\n",
    "import sys\n",
    "sys.path.append(os.path.abspath(\"../../framework\"))\n",
    "sys.path.append(os.path.abspath(\"../../concrete\"))\n",
    "sys.path.append(os.path.abspath(\"../../snippet\"))"
   ]
  },
  {
   "cell_type": "code",
   "execution_count": null,
   "metadata": {},
   "outputs": [],
   "source": [
    "from ConcAgent import ConcAgent\n",
    "from ConcEnvironment import ConcEnvironment\n",
    "from ConcAgentFactory import ConcAgentFactory\n",
    "from ConcAgentMemento import ConcAgentMemento\n",
    "from ConcBuildOrder import ConcBuildOrder\n",
    "from ConcStore import ConcStore\n",
    "from ConcObservation import ConcObservation\n",
    "from framework import  ObservationSequence \n",
    "from framework import TrainId, StoreField\n",
    "from workUtils import *"
   ]
  },
  {
   "cell_type": "markdown",
   "metadata": {},
   "source": [
    "# 10. Misc"
   ]
  },
  {
   "cell_type": "markdown",
   "metadata": {},
   "source": [
    "## 12. load trainlog into a database"
   ]
  },
  {
   "cell_type": "code",
   "execution_count": null,
   "metadata": {},
   "outputs": [],
   "source": [
    "trainLogFolderPath = \"./trainLog\"\n",
    "cur = loadTrainLog(trainLogFolderPath)\n",
    "\n",
    "# Table TrainLog(\n",
    "#     buildOrderId Text, /* accord to a build order */\n",
    "#     trainId   Text, /* accord to a trained agent along with a simulation time*/\n",
    "#     timeSimulation Integer,\n",
    "#     timestamp timestamp\n",
    "# )"
   ]
  },
  {
   "cell_type": "markdown",
   "metadata": {},
   "source": [
    "## 14. a function to load gain and bias from the trains over a training:"
   ]
  },
  {
   "cell_type": "code",
   "execution_count": null,
   "metadata": {},
   "outputs": [],
   "source": [
    "def getGainAndBiasOverTrain(buildOrderIdGiven, timeSimulationGiven):\n",
    "\n",
    "    concStore = ConcStore()\n",
    "    agentFactory = ConcAgentFactory()\n",
    "\n",
    "    cur.execute('''\n",
    "    Select\n",
    "        count(*)\n",
    "        From TrainLog\n",
    "        Where buildOrderId = ?\n",
    "        ''', (buildOrderIdGiven,))\n",
    "    assert cur.fetchone()[0] > 0, \"NO DATA WITH THE GIVEN BUILD ID\"\n",
    "\n",
    "    cur.execute('''\n",
    "    Select \n",
    "        trainId\n",
    "        , timeSimulation\n",
    "        , timestamp\n",
    "        From TrainLog\n",
    "        Where buildOrderId = ?\n",
    "        And timeSimulation = ?\n",
    "        Order By timeSimulation\n",
    "        ''', (buildOrderIdGiven, timeSimulationGiven, ))\n",
    "\n",
    "\n",
    "    (trainIdStr, timeSimulation, timestamp) = cur.fetchone()\n",
    "\n",
    "    # storeField contains: agentMement, buildOrder\n",
    "    storeField = concStore.load(TrainId(trainIdStr))\n",
    "    \n",
    "    anObservationSequence = ObservationSequence()\n",
    "    for _ in range(storeField.getBuildOrder().nSeq):\n",
    "        y = np.random.randn(1, ConcEnvironment.nPv).astype(np.float32)\n",
    "        anObservationSequence.add(ConcObservation(y))\n",
    "\n",
    "    # restore agent\n",
    "    agent = agentFactory.create(storeField.getBuildOrder())\n",
    "    agent.loadFromMemento(storeField.getAgentMemento())\n",
    "    agent(anObservationSequence)\n",
    "    \n",
    "    param = agent.getParameters() # param[\"gain\"], param[\"bias\"], param[\"sd\"]\n",
    "    \n",
    "    label = \"actionIsLimitedBy\" + storeField.getBuildOrder().agentLimitBy\n",
    "\n",
    "    return param, label"
   ]
  },
  {
   "cell_type": "markdown",
   "metadata": {},
   "source": [
    "# 20. Observe the trace of gain and bias over a traing"
   ]
  },
  {
   "cell_type": "markdown",
   "metadata": {},
   "source": [
    "## 22. Choose a build order"
   ]
  },
  {
   "cell_type": "code",
   "execution_count": null,
   "metadata": {},
   "outputs": [],
   "source": [
    "cur.execute('''\n",
    "Select\n",
    "    distinct buildOrderId\n",
    "    From TrainLog\n",
    "    Where buildOrderId like \"cs1b %\"\n",
    "    Order by timestamp\n",
    "    ''')\n",
    "\n",
    "buildOrderIdsToExport = [elm for elm, in cur.fetchall()]"
   ]
  },
  {
   "cell_type": "markdown",
   "metadata": {},
   "source": [
    "## 24. Load the parameters => SKIPPED"
   ]
  },
  {
   "cell_type": "markdown",
   "metadata": {},
   "source": [
    "## 26. Plot the trace of Gain and Bias along with the simulation time => SKIPPED"
   ]
  },
  {
   "cell_type": "markdown",
   "metadata": {},
   "source": [
    "## 27. Define which timesteps to export"
   ]
  },
  {
   "cell_type": "code",
   "execution_count": null,
   "metadata": {},
   "outputs": [],
   "source": [
    "cur.execute('''\n",
    "Select\n",
    "    Distinct TimeSimulation\n",
    "    From TrainLog\n",
    "    Where buildOrderId like \"cs1b %\"\n",
    "    Order by TimeSimulation\n",
    "    ''')\n",
    "allDistinctTimeSimulations = [elm for elm, in cur.fetchall()]\n",
    "\n",
    "nExport = 5\n",
    "timeSimulationsToExport = [allDistinctTimeSimulations[i] \n",
    "                           for i in np.linspace(1, len(allDistinctTimeSimulations)-1, nExport).astype(np.int)]"
   ]
  },
  {
   "cell_type": "markdown",
   "metadata": {},
   "source": [
    "## 28. Export the dataset of gains"
   ]
  },
  {
   "cell_type": "code",
   "execution_count": null,
   "metadata": {},
   "outputs": [],
   "source": [
    "tbl = []\n",
    "\n",
    "for buildOrderIdGiven in buildOrderIdsToExport:    \n",
    "    for timeSimulationGiven in timeSimulationsToExport:\n",
    "        \n",
    "        cur.execute('''\n",
    "    Select \n",
    "        Count(*)\n",
    "        From TrainLog\n",
    "        Where buildOrderId = ?\n",
    "        And timeSimulation = ?\n",
    "        ''', (buildOrderIdGiven, timeSimulationGiven, ))\n",
    "        \n",
    "        count, = cur.fetchone()\n",
    "        if count > 0:        \n",
    "            param, label = getGainAndBiasOverTrain(buildOrderIdGiven, timeSimulationGiven)\n",
    "            tbl.append((buildOrderIdGiven, timeSimulationGiven, param[\"gain\"].squeeze(),\n",
    "                        float(param[\"gainI\"]), float(param[\"gainD\"]), param[\"bias\"].squeeze(), param[\"sd\"].squeeze(), \n",
    "                        label))"
   ]
  },
  {
   "cell_type": "code",
   "execution_count": null,
   "metadata": {},
   "outputs": [],
   "source": [
    "with open(\"cs1b_param.csv\", \"w\") as fp:\n",
    "    fp.write(\"buildOrderId,timeSimulation,gainP,gainI,gainD,bias,sd,label\\n\")\n",
    "    for row in tbl:\n",
    "        fp.write(\"{0},{1},{2},{3},{4},{5},{6},{7}\\n\".format(*row))"
   ]
  }
 ],
 "metadata": {
  "kernelspec": {
   "display_name": "Python 3",
   "language": "python",
   "name": "python3"
  },
  "language_info": {
   "codemirror_mode": {
    "name": "ipython",
    "version": 3
   },
   "file_extension": ".py",
   "mimetype": "text/x-python",
   "name": "python",
   "nbconvert_exporter": "python",
   "pygments_lexer": "ipython3",
   "version": "3.7.5"
  }
 },
 "nbformat": 4,
 "nbformat_minor": 2
}
