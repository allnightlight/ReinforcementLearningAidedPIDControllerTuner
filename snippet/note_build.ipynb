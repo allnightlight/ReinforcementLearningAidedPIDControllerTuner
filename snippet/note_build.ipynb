{
 "cells": [
  {
   "cell_type": "markdown",
   "metadata": {},
   "source": [
    "# A snippet for building\n",
    "\n",
    "---\n",
    "\n",
    "This note is a snippet for generating and training agents to control a first-order time-delay plant.\n",
    "\n",
    "BuildOrder can enable you to regulate how to generate/train agents.\n",
    "\n",
    "The agents trained here will be analyzed in the next note."
   ]
  },
  {
   "cell_type": "code",
   "execution_count": null,
   "metadata": {},
   "outputs": [],
   "source": [
    "import sys\n",
    "sys.path.append(\"../framework\")\n",
    "sys.path.append(\"../concrete\")\n",
    "\n",
    "from datetime import datetime"
   ]
  },
  {
   "cell_type": "code",
   "execution_count": null,
   "metadata": {},
   "outputs": [],
   "source": [
    "from ConcAgent import ConcAgent\n",
    "from ConcAgentFactory import ConcAgentFactory\n",
    "from ConcBuildOrder import ConcBuildOrder\n",
    "from ConcEnvrionmentFactory import ConcEnvironmentFactory\n",
    "from ConcMyLogger import ConcMyLogger\n",
    "from ConcRewardGiverFactory import ConcRewardGiverFactory\n",
    "from ConcStore import ConcStore\n",
    "from ConcTrainerFactory import ConcTrainerFactory\n",
    "from ConcValueFunctionApproximatorFactory import ConcValueFunctionApproximatorFactory\n",
    "from MyArray import MyArray\n",
    "from Utils import Utils\n",
    "from framework import Builder"
   ]
  },
  {
   "cell_type": "markdown",
   "metadata": {},
   "source": [
    "## 10. Train agents to control a first-order time-delay plant"
   ]
  },
  {
   "cell_type": "code",
   "execution_count": null,
   "metadata": {},
   "outputs": [],
   "source": [
    "builder = Builder(ConcStore()\n",
    "        , ConcAgentFactory()\n",
    "        , ConcEnvironmentFactory()\n",
    "        , ConcTrainerFactory()\n",
    "        , ConcValueFunctionApproximatorFactory()\n",
    "        , ConcRewardGiverFactory()\n",
    "        , ConcMyLogger())"
   ]
  },
  {
   "cell_type": "markdown",
   "metadata": {},
   "source": [
    "### 12. define how to generate and train agents:"
   ]
  },
  {
   "cell_type": "code",
   "execution_count": null,
   "metadata": {},
   "outputs": [],
   "source": [
    "buildOrders = MyArray()\n",
    "\n",
    "for k1 in range(2**2): # 2**7\n",
    "    buildOrder = ConcBuildOrder(nIteration=2**4 # 2**12\n",
    "                , nSeq=1\n",
    "                , nHorizonValueOptimization=2**3\n",
    "                , nIntervalPolicyOptimization=2**4\n",
    "                , nBatchPolicyOptimization=2**5\n",
    "                , nSaveInterval=2**2 # 2**8\n",
    "                , description=Utils.generateRandomString(16)\n",
    "                , tConstant = 10\n",
    "                , nHiddenValueApproximator = 2**3\n",
    "                , sdPolicy = 0.1\n",
    "                , nActionsSampledFromPolicy = 2**0 # 2**5\n",
    "                , agentUseBias = False,\n",
    "                )\n",
    "\n",
    "    buildOrders.add(buildOrder)"
   ]
  },
  {
   "cell_type": "markdown",
   "metadata": {},
   "source": [
    "### 14. export the build oder \"Id\""
   ]
  },
  {
   "cell_type": "code",
   "execution_count": null,
   "metadata": {},
   "outputs": [],
   "source": [
    "txt = [\"# build orders of the train since %s \" % datetime.now(),]\\\n",
    "    + [buildOrder.description for buildOrder in buildOrders]\n",
    "with open(\"build_order_ids_%s.txt\" \n",
    "          % datetime.strftime(datetime.now(), \"%Y_%m_%d_%H_%M_%S\"), \"w\") as fp:\n",
    "    fp.write(\"\\n\".join(txt))"
   ]
  },
  {
   "cell_type": "markdown",
   "metadata": {},
   "source": [
    "### 16. run build"
   ]
  },
  {
   "cell_type": "code",
   "execution_count": null,
   "metadata": {},
   "outputs": [],
   "source": [
    "builder.build(buildOrders)"
   ]
  }
 ],
 "metadata": {
  "kernelspec": {
   "display_name": "Python 3",
   "language": "python",
   "name": "python3"
  },
  "language_info": {
   "codemirror_mode": {
    "name": "ipython",
    "version": 3
   },
   "file_extension": ".py",
   "mimetype": "text/x-python",
   "name": "python",
   "nbconvert_exporter": "python",
   "pygments_lexer": "ipython3",
   "version": "3.7.5"
  }
 },
 "nbformat": 4,
 "nbformat_minor": 2
}
