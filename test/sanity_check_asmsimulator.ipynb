{
 "cells": [
  {
   "cell_type": "code",
   "execution_count": null,
   "metadata": {},
   "outputs": [],
   "source": [
    "import shutil\n",
    "import os\n",
    "import numpy as np\n",
    "import matplotlib.pylab as plt\n",
    "import tensorflow as tf\n",
    "\n",
    "import sys\n",
    "sys.path.append(os.path.abspath(\"../framework\"))\n",
    "sys.path.append(os.path.abspath(\"../concrete\"))"
   ]
  },
  {
   "cell_type": "code",
   "execution_count": null,
   "metadata": {},
   "outputs": [],
   "source": [
    "from AsmAction import AsmAction\n",
    "from AsmSimulator import AsmSimulator\n",
    "from ConcObservation import ConcObservation\n",
    "from ConcAgentFactory import ConcAgentFactory\n",
    "from ConcBuildOrder import ConcBuildOrder\n",
    "from ConcEnvrionmentFactory import ConcEnvironmentFactory\n",
    "from ConcRewardGiverFactory import ConcRewardGiverFactory\n",
    "from ConcTrainerFactory import ConcTrainerFactory\n",
    "from ConcValueFunctionApproximatorFactory import ConcValueFunctionApproximatorFactory\n",
    "from framework import Trainer, ObservationSequence"
   ]
  },
  {
   "cell_type": "markdown",
   "metadata": {},
   "source": [
    "## S100: Check the responce of Asm Simulator to the actions"
   ]
  },
  {
   "cell_type": "markdown",
   "metadata": {},
   "source": [
    "### S110: steady state with various set values of DO"
   ]
  },
  {
   "cell_type": "code",
   "execution_count": null,
   "metadata": {},
   "outputs": [],
   "source": [
    "def checkSteadyState(action):\n",
    "    # ignore the fluctuation of inflow\n",
    "    asmSimulator =  AsmSimulator(h = 1.0)\n",
    "    asmSimulator.init()\n",
    "\n",
    "    Y = []\n",
    "    X = []\n",
    "\n",
    "    for _ in range(14): # 1[step] = [1day]\n",
    "        asmSimulator.update(action)\n",
    "        observation = asmSimulator.observe()\n",
    "        Y.append(observation.getValue())\n",
    "        X.append(asmSimulator.x)\n",
    "\n",
    "    Ynumpy = np.concatenate(Y, axis=0) # (*, nPv = 1)\n",
    "    Xnumpy = np.stack(X, axis=0) # (*, nAsm)\n",
    "\n",
    "    plt.figure()\n",
    "    plt.plot(Ynumpy)\n",
    "    plt.title('NH4')\n",
    "\n",
    "    for k1, name in enumerate(asmSimulator.asmVarNames):\n",
    "        print(\"{0:5s} {1:8.2f}\".format(name, asmSimulator.x[k1]))"
   ]
  },
  {
   "cell_type": "markdown",
   "metadata": {},
   "source": [
    "#### DO = 3.0"
   ]
  },
  {
   "cell_type": "code",
   "execution_count": null,
   "metadata": {},
   "outputs": [],
   "source": [
    "action = AsmAction(np.ones((1,1)) * 10.0) # (1, nMv = 1)\n",
    "Do = action.getActionOnEnvironment()\n",
    "checkSteadyState(action)"
   ]
  },
  {
   "cell_type": "markdown",
   "metadata": {},
   "source": [
    "#### DO = 0.8"
   ]
  },
  {
   "cell_type": "code",
   "execution_count": null,
   "metadata": {},
   "outputs": [],
   "source": [
    "action = AsmAction(np.ones((1,1)) * -1.0) # (1, nMv = 1)\n",
    "Do = action.getActionOnEnvironment()\n",
    "checkSteadyState(action)"
   ]
  },
  {
   "cell_type": "markdown",
   "metadata": {},
   "source": [
    "#### DO = 0.14"
   ]
  },
  {
   "cell_type": "code",
   "execution_count": null,
   "metadata": {},
   "outputs": [],
   "source": [
    "action = AsmAction(np.ones((1,1)) * -3.0) # (1, nMv = 1)\n",
    "Do = action.getActionOnEnvironment()\n",
    "checkSteadyState(action)"
   ]
  },
  {
   "cell_type": "markdown",
   "metadata": {},
   "source": [
    "### S120: steady state with cyclic pertubated inflow"
   ]
  },
  {
   "cell_type": "code",
   "execution_count": null,
   "metadata": {},
   "outputs": [],
   "source": [
    "def checkSteadyStateWithPertubation(action):\n",
    "    # ignore the fluctuation of inflow\n",
    "    asmSimulator =  AsmSimulator(amplitudeDv=2.0)\n",
    "    asmSimulator.init()\n",
    "\n",
    "    Y = []\n",
    "    X = []\n",
    "\n",
    "    for _ in range(96*3): # 96[step] = [1day]\n",
    "        asmSimulator.update(action)\n",
    "        observation = asmSimulator.observe()\n",
    "        Y.append(observation.getValue())\n",
    "        X.append(asmSimulator.x)\n",
    "\n",
    "    Ynumpy = np.concatenate(Y, axis=0) # (*, nPv = 1)\n",
    "    Xnumpy = np.stack(X, axis=0) # (*, nAsm)\n",
    "\n",
    "    plt.figure()\n",
    "    plt.plot(Ynumpy)\n",
    "    plt.title('NH4')"
   ]
  },
  {
   "cell_type": "markdown",
   "metadata": {},
   "source": [
    "#### DO = 3.0"
   ]
  },
  {
   "cell_type": "code",
   "execution_count": null,
   "metadata": {},
   "outputs": [],
   "source": [
    "action = AsmAction(np.ones((1,1)) * 10.0) # (1, nMv = 1)\n",
    "Do = action.getActionOnEnvironment()\n",
    "checkSteadyStateWithPertubation(action)"
   ]
  },
  {
   "cell_type": "markdown",
   "metadata": {},
   "source": [
    "#### DO = 0.8"
   ]
  },
  {
   "cell_type": "code",
   "execution_count": null,
   "metadata": {},
   "outputs": [],
   "source": [
    "action = AsmAction(np.ones((1,1)) * -1.0) # (1, nMv = 1)\n",
    "Do = action.getActionOnEnvironment()\n",
    "checkSteadyStateWithPertubation(action)"
   ]
  },
  {
   "cell_type": "markdown",
   "metadata": {},
   "source": [
    "#### DO = 0.36"
   ]
  },
  {
   "cell_type": "code",
   "execution_count": null,
   "metadata": {},
   "outputs": [],
   "source": [
    "action = AsmAction(np.ones((1,1)) * -2.0) # (1, nMv = 1)\n",
    "Do = action.getActionOnEnvironment()\n",
    "checkSteadyStateWithPertubation(action)"
   ]
  }
 ],
 "metadata": {
  "kernelspec": {
   "display_name": "Python 3",
   "language": "python",
   "name": "python3"
  },
  "language_info": {
   "codemirror_mode": {
    "name": "ipython",
    "version": 3
   },
   "file_extension": ".py",
   "mimetype": "text/x-python",
   "name": "python",
   "nbconvert_exporter": "python",
   "pygments_lexer": "ipython3",
   "version": "3.7.5"
  }
 },
 "nbformat": 4,
 "nbformat_minor": 2
}
