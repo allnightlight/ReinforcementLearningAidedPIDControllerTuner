{
 "cells": [
  {
   "cell_type": "code",
   "execution_count": null,
   "metadata": {},
   "outputs": [],
   "source": [
    "import shutil\n",
    "import os\n",
    "import numpy as np\n",
    "import matplotlib.pylab as plt\n",
    "\n",
    "import sys\n",
    "sys.path.append(os.path.abspath(\"../framework\"))\n",
    "sys.path.append(os.path.abspath(\"../concrete\"))"
   ]
  },
  {
   "cell_type": "code",
   "execution_count": null,
   "metadata": {},
   "outputs": [],
   "source": [
    "from ConcAgent import ConcAgent\n",
    "from ConcEnvironment import ConcEnvironment\n",
    "from ConcAgentFactory import ConcAgentFactory\n",
    "from ConcAgentMemento import ConcAgentMemento\n",
    "from ConcBuildOrder import ConcBuildOrder\n",
    "from ConcStore import ConcStore\n",
    "from ConcObservation import ConcObservation\n",
    "from framework import  ObservationSequence \n",
    "from framework import TrainId, StoreField\n",
    "from workUtils import *"
   ]
  },
  {
   "cell_type": "markdown",
   "metadata": {},
   "source": [
    "# 10. Misc"
   ]
  },
  {
   "cell_type": "markdown",
   "metadata": {},
   "source": [
    "## 12. load trainlog into a database"
   ]
  },
  {
   "cell_type": "code",
   "execution_count": null,
   "metadata": {},
   "outputs": [],
   "source": [
    "trainLogFolderPath = \"./trainLog\"\n",
    "cur = loadTrainLog(trainLogFolderPath)\n",
    "\n",
    "# Table TrainLog(\n",
    "#     buildOrderId Text, /* accord to a build order */\n",
    "#     trainId   Text, /* accord to a trained agent along with a simulation time*/\n",
    "#     timeSimulation Integer,\n",
    "#     timestamp timestamp\n",
    "# )"
   ]
  },
  {
   "cell_type": "markdown",
   "metadata": {},
   "source": [
    "## 14. a function to load gain and bias from the trains over a training:"
   ]
  },
  {
   "cell_type": "code",
   "execution_count": null,
   "metadata": {},
   "outputs": [],
   "source": [
    "def getGainAndBiasOverTrain(buildOrderIdGiven):\n",
    "\n",
    "    concStore = ConcStore()\n",
    "    agentFactory = ConcAgentFactory()\n",
    "\n",
    "    y = np.random.randn(1, ConcEnvironment.nPv).astype(np.float32)\n",
    "    anObservationSequence = ObservationSequence()\n",
    "    anObservationSequence.add(ConcObservation(y))\n",
    "\n",
    "    cur.execute('''\n",
    "    Select\n",
    "        count(*)\n",
    "        From TrainLog\n",
    "        Where buildOrderId = ?\n",
    "        ''', (buildOrderIdGiven,))\n",
    "    assert cur.fetchone()[0] > 0, \"NO DATA WITH THE GIVEN BUILD ID\"\n",
    "\n",
    "    cur.execute('''\n",
    "    Select \n",
    "        trainId\n",
    "        , timeSimulation\n",
    "        , timestamp\n",
    "        From TrainLog\n",
    "        Where buildOrderId = ?\n",
    "        Order By timeSimulation\n",
    "        ''', (buildOrderIdGiven,))\n",
    "\n",
    "\n",
    "    TimeSimulation = []\n",
    "    Gain = []\n",
    "    Bias = []\n",
    "\n",
    "    for (trainIdStr, timeSimulation, timestamp) in cur.fetchall():\n",
    "\n",
    "        # storeField contains: agentMement, buildOrder\n",
    "        storeField = concStore.load(TrainId(trainIdStr))\n",
    "\n",
    "        # restore agent\n",
    "        agent = agentFactory.create(storeField.getBuildOrder())\n",
    "        agent.loadFromMemento(storeField.getAgentMemento())\n",
    "        agent(anObservationSequence)\n",
    "\n",
    "        TimeSimulation.append(timeSimulation)\n",
    "        \n",
    "        gain = agent.gainP.weights[0].numpy()\n",
    "        if len(agent.gainP.weights) > 1:\n",
    "            bias = agent.gainP.weights[1].numpy()\n",
    "        else:\n",
    "            bias = np.nan\n",
    "            \n",
    "        Gain.append(gain)\n",
    "        Bias.append(bias)\n",
    "\n",
    "    TimeSimulation = np.array(TimeSimulation) # (*)\n",
    "    Gain = np.concatenate(Gain, axis=0) # (*, nMv)\n",
    "    Bias = np.stack(Bias, axis=0) # (*, nMv)\n",
    "    \n",
    "    return TimeSimulation, Gain, Bias"
   ]
  },
  {
   "cell_type": "markdown",
   "metadata": {},
   "source": [
    "# 20. Observe the trace of gain and bias over a traing"
   ]
  },
  {
   "cell_type": "markdown",
   "metadata": {},
   "source": [
    "## 22. Choose a build order"
   ]
  },
  {
   "cell_type": "code",
   "execution_count": null,
   "metadata": {},
   "outputs": [],
   "source": [
    "cur.execute('''\n",
    "Select\n",
    "    Timestamp\n",
    "    , buildOrderId\n",
    "    , TrainId\n",
    "    , count(*)\n",
    "    From TrainLog\n",
    "    Group By buildOrderId\n",
    "    Order by Timestamp desc\n",
    "    ''')\n",
    "\n",
    "for row in cur.fetchall():\n",
    "    print(row)"
   ]
  },
  {
   "cell_type": "markdown",
   "metadata": {},
   "source": [
    "buildOrderId = lMyKekovolegOLpS\n",
    "\n",
    "{\"trainId\": \"0vpVNToGu8MXQ7UP\", \"body\": {\"timeSimulation\": 40959, \"agentMemento\": {\"saveFilePath\": \"./checkpoint/QfAUj7GQYfdlpj9m\"}, \"buildOrder\": {\"nIteration\": 65536, \"nSeq\": 1, \"nHorizonValueOptimization\": 8, \"nIntervalPolicyOptimization\": 16, \"nBatchPolicyOptimization\": 32, \"nSaveInterval\": 1024, \"description\": \"lMyKekovolegOLpS\", \"tConstant\": 10, \"nHiddenValueApproximator\": 8, \"sdPolicy\": 0.1, \"nActionsSampledFromPolicy\": 8, \"amplitudeDv\": 0.0, \"amplitudePeriodicDv\": 1.0, \"cyclePeriodicDv\": 30, \"agentUseBias\": false, \"learningRatePolicyOptimizer\": 0.001, \"learningRateValueFunctionOptimizer\": 0.01, \"weightOnError\": 0.1}, \"timeStamp\": \"2020-05-19 15:26:12\"}}"
   ]
  },
  {
   "cell_type": "markdown",
   "metadata": {},
   "source": [
    "buildOrderId = JPe2afqJFmAAnowh\n",
    "\n",
    "{\"trainId\": \"1kP1RV3pq2ERFMNd\", \"body\": {\"timeSimulation\": 46079, \"agentMemento\": {\"saveFilePath\": \"./checkpoint/T1IwYbdrSuiahqBs\"}, \"buildOrder\": {\"nIteration\": 65536, \"nSeq\": 1, \"nHorizonValueOptimization\": 8, \"nIntervalPolicyOptimization\": 16, \"nBatchPolicyOptimization\": 32, \"nSaveInterval\": 1024, \"description\": \"JPe2afqJFmAAnowh\", \"tConstant\": 10, \"nHiddenValueApproximator\": 8, \"sdPolicy\": 0.1, \"nActionsSampledFromPolicy\": 8, \"amplitudeDv\": 0.0, \"amplitudePeriodicDv\": 1.0, \"cyclePeriodicDv\": 30, \"agentUseBias\": false, \"learningRatePolicyOptimizer\": 0.001, \"learningRateValueFunctionOptimizer\": 0.01, \"weightOnError\": 0.9}, \"timeStamp\": \"2020-05-19 14:45:20\"}}"
   ]
  },
  {
   "cell_type": "code",
   "execution_count": null,
   "metadata": {},
   "outputs": [],
   "source": [
    "cur.execute('''\n",
    "Select\n",
    "    buildOrderId\n",
    "    From TrainLog\n",
    "    Order By timestamp desc\n",
    "    Limit 2\n",
    "    ''')\n",
    "\n",
    "buildOrderIdGiven = cur.fetchone()[0]"
   ]
  },
  {
   "cell_type": "code",
   "execution_count": null,
   "metadata": {},
   "outputs": [],
   "source": [
    "#buildOrderIdGiven = \"lMyKekovolegOLpS\" # weightOnError = 0.1\n",
    "#buildOrderIdGiven = \"JPe2afqJFmAAnowh\" # weightOnError = 0.9\n",
    "buildOrderIdGiven =  \"u0oBOHOk2fPO3bgq\" # weightOnError = 0.5"
   ]
  },
  {
   "cell_type": "markdown",
   "metadata": {},
   "source": [
    "## 24. Load the parameters"
   ]
  },
  {
   "cell_type": "code",
   "execution_count": null,
   "metadata": {},
   "outputs": [],
   "source": [
    "TimeSimulation, Gain, Bias = getGainAndBiasOverTrain(buildOrderIdGiven)"
   ]
  },
  {
   "cell_type": "markdown",
   "metadata": {},
   "source": [
    "## 26. Plot the trace of Gain and Bias along with the simulation time"
   ]
  },
  {
   "cell_type": "code",
   "execution_count": null,
   "metadata": {},
   "outputs": [],
   "source": [
    "fig = plt.figure()\n",
    "fig.clf()\n",
    "#\n",
    "ax = fig.add_subplot(2,1,1)\n",
    "ax.plot(TimeSimulation, Gain, 'o-')\n",
    "ax.set_title('Gain')\n",
    "ax.axhline(y = 0, color = \"k\", linestyle = \"--\")\n",
    "ax.set_xlim(0, 2**16)\n",
    "#\n",
    "ax = fig.add_subplot(2,1,2)\n",
    "ax.plot(TimeSimulation, Bias, 'o-')\n",
    "ax.set_title('Bias')\n",
    "#\n",
    "plt.tight_layout()"
   ]
  },
  {
   "cell_type": "code",
   "execution_count": null,
   "metadata": {},
   "outputs": [],
   "source": []
  }
 ],
 "metadata": {
  "kernelspec": {
   "display_name": "Python 3",
   "language": "python",
   "name": "python3"
  },
  "language_info": {
   "codemirror_mode": {
    "name": "ipython",
    "version": 3
   },
   "file_extension": ".py",
   "mimetype": "text/x-python",
   "name": "python",
   "nbconvert_exporter": "python",
   "pygments_lexer": "ipython3",
   "version": "3.7.5"
  }
 },
 "nbformat": 4,
 "nbformat_minor": 2
}
