{
 "cells": [
  {
   "cell_type": "code",
   "execution_count": null,
   "metadata": {},
   "outputs": [],
   "source": [
    "import shutil\n",
    "import os"
   ]
  },
  {
   "cell_type": "code",
   "execution_count": null,
   "metadata": {},
   "outputs": [],
   "source": [
    "import sys\n",
    "sys.path.append(os.path.abspath(\"../framework\"))\n",
    "sys.path.append(os.path.abspath(\"../concrete\"))"
   ]
  },
  {
   "cell_type": "code",
   "execution_count": null,
   "metadata": {},
   "outputs": [],
   "source": [
    "from ConcAgent import ConcAgent\n",
    "from ConcAgentFactory import ConcAgentFactory\n",
    "from ConcAgentMemento import ConcAgentMemento\n",
    "from ConcBuildOrder import ConcBuildOrder\n",
    "from ConcStore import ConcStore\n",
    "from framework import TrainId, StoreField"
   ]
  },
  {
   "cell_type": "code",
   "execution_count": null,
   "metadata": {},
   "outputs": [],
   "source": [
    "from workUtils import *"
   ]
  },
  {
   "cell_type": "code",
   "execution_count": null,
   "metadata": {},
   "outputs": [],
   "source": [
    "trainLogFolderPath = \"./trainLog\""
   ]
  },
  {
   "cell_type": "code",
   "execution_count": null,
   "metadata": {},
   "outputs": [],
   "source": [
    "from glob import glob\n",
    "import sqlite3\n",
    "from datetime import datetime \n",
    "conn = sqlite3.connect(\":memory:\")\n",
    "cur = conn.cursor()\n",
    "\n",
    "cur.execute(\"\"\"\n",
    "\n",
    "Create Table TrainLog\n",
    "(\n",
    "    buildOrderId Text, /* accord to a build order */\n",
    "    trainId   Text, /* accord to a trained agent along with a simulation time*/\n",
    "    timeSimulation Integer,\n",
    "    timestamp timestamp\n",
    ")\n",
    "\"\"\")\n",
    "\n",
    "concStore = ConcStore()\n",
    "for filePath in glob(os.path.join(trainLogFolderPath, \"*\")):\n",
    "    trainId = TrainId(os.path.basename(filePath))\n",
    "    # storeField contains: agentMement, buildOrder\n",
    "    storeField = concStore.load(trainId)\n",
    "    \n",
    "    cur.execute('''\n",
    "    Insert Into TrainLog (buildOrderId, trainId, timeSimulation, timestamp)\n",
    "    values (?, ?, ?, ?)\n",
    "    ''', (\n",
    "        storeField.getBuildOrder().description\n",
    "        , str(trainId)\n",
    "        , storeField.getTimeSimulation()\n",
    "        , datetime.strptime(storeField.getTimeStamp(), \"%Y-%m-%d %H:%M:%S\")\n",
    "    ))    "
   ]
  },
  {
   "cell_type": "code",
   "execution_count": null,
   "metadata": {},
   "outputs": [],
   "source": [
    "buildOrderIdGiven = \"5iqyogSD3H9tEO1h\""
   ]
  },
  {
   "cell_type": "code",
   "execution_count": null,
   "metadata": {},
   "outputs": [],
   "source": [
    "concStore = ConcStore()\n",
    "agentFactory = ConcAgentFactory()"
   ]
  },
  {
   "cell_type": "code",
   "execution_count": null,
   "metadata": {},
   "outputs": [],
   "source": [
    "cur.execute('''\n",
    "Select\n",
    "    count(*)\n",
    "    From TrainLog\n",
    "    Where buildOrderId = ?\n",
    "    ''', (buildOrderIdGiven,))\n",
    "assert cur.fetchone()[0] > 0, \"NO DATA WITH THE GIVEN BUILD ID\"\n",
    "    \n",
    "\n",
    "cur.execute('''\n",
    "Select \n",
    "    trainId\n",
    "    , timeSimulation\n",
    "    , timestamp\n",
    "    From TrainLog\n",
    "    Where buildOrderId = ?\n",
    "    Order By timeSimulation\n",
    "    ''', (buildOrderIdGiven,))\n",
    "\n",
    "for (trainIdStr, timeSimulation, timestamp) in cur.fetchall():\n",
    "\n",
    "    # storeField contains: agentMement, buildOrder\n",
    "    storeField = concStore.load(TrainId(trainIdStr))\n",
    "    \n",
    "    # restore agent\n",
    "    agent = agentFactory.create(storeField.getBuildOrder())\n",
    "    agent.loadFromMemento(storeField.getAgentMemento())"
   ]
  }
 ],
 "metadata": {
  "kernelspec": {
   "display_name": "Python 3",
   "language": "python",
   "name": "python3"
  },
  "language_info": {
   "codemirror_mode": {
    "name": "ipython",
    "version": 3
   },
   "file_extension": ".py",
   "mimetype": "text/x-python",
   "name": "python",
   "nbconvert_exporter": "python",
   "pygments_lexer": "ipython3",
   "version": "3.7.5"
  }
 },
 "nbformat": 4,
 "nbformat_minor": 2
}
